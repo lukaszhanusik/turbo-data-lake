{
    "nbformat": 4,
    "nbformat_minor": 0,
    "metadata": {
      "colab": {
        "provenance": [],
        "include_colab_link": true
      },
      "kernelspec": {
        "name": "python3",
        "display_name": "Python 3"
      },
      "language_info": {
        "name": "python"
      }
    },
    "cells": [
      {
        "cell_type": "markdown",
        "metadata": {
          "id": "view-in-github",
          "colab_type": "text"
        },
        "source": [
          "<a href=\"https://colab.research.google.com/gist/lukaszhanusik/687264d2fe0423452d477107537a0405/copy-of-duckdb_in_jupyter_notebooks.ipynb\" target=\"_parent\"><img src=\"https://colab.research.google.com/assets/colab-badge.svg\" alt=\"Open In Colab\"/></a>"
        ]
      },
      {
        "cell_type": "markdown",
        "source": [
          "# DuckDB in Jupyter Notebooks\n",
          "A streamlined workflow for SQL analysis with DuckDB and Jupyter"
        ],
        "metadata": {
          "id": "vQivFMys2vtz"
        }
      },
      {
        "cell_type": "markdown",
        "source": [
          "## Library Import and Configuration"
        ],
        "metadata": {
          "id": "TxtOOY905TG5"
        }
      },
      {
        "cell_type": "code",
        "execution_count": null,
        "metadata": {
          "id": "cf49_HQa2o8h",
          "outputId": "c6e0425b-d824-47dd-93dd-3dc8426c1d13",
          "colab": {
            "base_uri": "https://localhost:8080/"
          }
        },
        "outputs": [
          {
            "output_type": "stream",
            "name": "stdout",
            "text": [
              "\u001b[2K     \u001b[90m━━━━━━━━━━━━━━━━━━━━━━━━━━━━━━━━━━━━━━━━\u001b[0m \u001b[32m15.2/15.2 MB\u001b[0m \u001b[31m49.9 MB/s\u001b[0m eta \u001b[36m0:00:00\u001b[0m\n",
              "\u001b[2K     \u001b[90m━━━━━━━━━━━━━━━━━━━━━━━━━━━━━━━━━━━━━━━━\u001b[0m \u001b[32m1.6/1.6 MB\u001b[0m \u001b[31m7.9 MB/s\u001b[0m eta \u001b[36m0:00:00\u001b[0m\n",
              "\u001b[?25h"
            ]
          }
        ],
        "source": [
          "!pip install --quiet duckdb\n",
          "!pip install --quiet jupysql \n",
          "!pip install --quiet duckdb-engine\n",
          "!pip install --quiet pandas\n",
          "!pip install --quiet matplotlib"
        ]
      },
      {
        "cell_type": "code",
        "source": [
          "import duckdb\n",
          "import pandas as pd\n",
          "# No need to import sqlalchemy or duckdb_engine\n",
          "#  JupySQL will use SQLAlchemy to auto-detect the driver needed based on your connection string!\n",
          "\n",
          "# Import jupysql Jupyter extension to create SQL cells\n",
          "%load_ext sql"
        ],
        "metadata": {
          "id": "MJHaFyq_3I_5"
        },
        "execution_count": null,
        "outputs": []
      },
      {
        "cell_type": "markdown",
        "source": [
          "We configure jupysql to return data as a Pandas dataframe and have less verbose output"
        ],
        "metadata": {
          "id": "javkpysP6I0W"
        }
      },
      {
        "cell_type": "code",
        "source": [
          "%config SqlMagic.autopandas = True\n",
          "%config SqlMagic.feedback = False\n",
          "%config SqlMagic.displaycon = False"
        ],
        "metadata": {
          "id": "CvY8OgfV3ckB"
        },
        "execution_count": null,
        "outputs": []
      },
      {
        "cell_type": "markdown",
        "source": [
          "## Connecting to DuckDB\n",
          "Connect jupysql to DuckDB using a SQLAlchemy-style connection string. You may either connect to an in memory DuckDB, or a file backed db."
        ],
        "metadata": {
          "id": "9Xq5eXmM5bUA"
        }
      },
      {
        "cell_type": "code",
        "source": [
          "%sql duckdb:///:memory:\n",
          "# %sql duckdb:///path/to/file.db"
        ],
        "metadata": {
          "id": "8NW45gk13eoY"
        },
        "execution_count": null,
        "outputs": []
      },
      {
        "cell_type": "markdown",
        "source": [
          "## Querying DuckDB\n",
          "Single line SQL queries can be run using `%sql` at the start of a line. Query results will be displayed as a Pandas DF. Note the SQL syntax highlighting!"
        ],
        "metadata": {
          "id": "xUPJhKPH5N6D"
        }
      },
      {
        "cell_type": "code",
        "source": [
          "%sql SELECT 'Off and flying!' as a_duckdb_column"
        ],
        "metadata": {
          "colab": {
            "base_uri": "https://localhost:8080/",
            "height": 80
          },
          "id": "JboVd92U43VV",
          "outputId": "b001829c-2cb2-4d7e-de35-2db6d3e58cb2"
        },
        "execution_count": null,
        "outputs": [
          {
            "output_type": "execute_result",
            "data": {
              "text/plain": [
                "   a_duckdb_column\n",
                "0  Off and flying!"
              ],
              "text/html": [
                "\n",
                "  <div id=\"df-c19e29da-66af-4ea2-a138-5b5443f3ff57\">\n",
                "    <div class=\"colab-df-container\">\n",
                "      <div>\n",
                "<style scoped>\n",
                "    .dataframe tbody tr th:only-of-type {\n",
                "        vertical-align: middle;\n",
                "    }\n",
                "\n",
                "    .dataframe tbody tr th {\n",
                "        vertical-align: top;\n",
                "    }\n",
                "\n",
                "    .dataframe thead th {\n",
                "        text-align: right;\n",
                "    }\n",
                "</style>\n",
                "<table border=\"1\" class=\"dataframe\">\n",
                "  <thead>\n",
                "    <tr style=\"text-align: right;\">\n",
                "      <th></th>\n",
                "      <th>a_duckdb_column</th>\n",
                "    </tr>\n",
                "  </thead>\n",
                "  <tbody>\n",
                "    <tr>\n",
                "      <th>0</th>\n",
                "      <td>Off and flying!</td>\n",
                "    </tr>\n",
                "  </tbody>\n",
                "</table>\n",
                "</div>\n",
                "      <button class=\"colab-df-convert\" onclick=\"convertToInteractive('df-c19e29da-66af-4ea2-a138-5b5443f3ff57')\"\n",
                "              title=\"Convert this dataframe to an interactive table.\"\n",
                "              style=\"display:none;\">\n",
                "        \n",
                "  <svg xmlns=\"http://www.w3.org/2000/svg\" height=\"24px\"viewBox=\"0 0 24 24\"\n",
                "       width=\"24px\">\n",
                "    <path d=\"M0 0h24v24H0V0z\" fill=\"none\"/>\n",
                "    <path d=\"M18.56 5.44l.94 2.06.94-2.06 2.06-.94-2.06-.94-.94-2.06-.94 2.06-2.06.94zm-11 1L8.5 8.5l.94-2.06 2.06-.94-2.06-.94L8.5 2.5l-.94 2.06-2.06.94zm10 10l.94 2.06.94-2.06 2.06-.94-2.06-.94-.94-2.06-.94 2.06-2.06.94z\"/><path d=\"M17.41 7.96l-1.37-1.37c-.4-.4-.92-.59-1.43-.59-.52 0-1.04.2-1.43.59L10.3 9.45l-7.72 7.72c-.78.78-.78 2.05 0 2.83L4 21.41c.39.39.9.59 1.41.59.51 0 1.02-.2 1.41-.59l7.78-7.78 2.81-2.81c.8-.78.8-2.07 0-2.86zM5.41 20L4 18.59l7.72-7.72 1.47 1.35L5.41 20z\"/>\n",
                "  </svg>\n",
                "      </button>\n",
                "      \n",
                "  <style>\n",
                "    .colab-df-container {\n",
                "      display:flex;\n",
                "      flex-wrap:wrap;\n",
                "      gap: 12px;\n",
                "    }\n",
                "\n",
                "    .colab-df-convert {\n",
                "      background-color: #E8F0FE;\n",
                "      border: none;\n",
                "      border-radius: 50%;\n",
                "      cursor: pointer;\n",
                "      display: none;\n",
                "      fill: #1967D2;\n",
                "      height: 32px;\n",
                "      padding: 0 0 0 0;\n",
                "      width: 32px;\n",
                "    }\n",
                "\n",
                "    .colab-df-convert:hover {\n",
                "      background-color: #E2EBFA;\n",
                "      box-shadow: 0px 1px 2px rgba(60, 64, 67, 0.3), 0px 1px 3px 1px rgba(60, 64, 67, 0.15);\n",
                "      fill: #174EA6;\n",
                "    }\n",
                "\n",
                "    [theme=dark] .colab-df-convert {\n",
                "      background-color: #3B4455;\n",
                "      fill: #D2E3FC;\n",
                "    }\n",
                "\n",
                "    [theme=dark] .colab-df-convert:hover {\n",
                "      background-color: #434B5C;\n",
                "      box-shadow: 0px 1px 3px 1px rgba(0, 0, 0, 0.15);\n",
                "      filter: drop-shadow(0px 1px 2px rgba(0, 0, 0, 0.3));\n",
                "      fill: #FFFFFF;\n",
                "    }\n",
                "  </style>\n",
                "\n",
                "      <script>\n",
                "        const buttonEl =\n",
                "          document.querySelector('#df-c19e29da-66af-4ea2-a138-5b5443f3ff57 button.colab-df-convert');\n",
                "        buttonEl.style.display =\n",
                "          google.colab.kernel.accessAllowed ? 'block' : 'none';\n",
                "\n",
                "        async function convertToInteractive(key) {\n",
                "          const element = document.querySelector('#df-c19e29da-66af-4ea2-a138-5b5443f3ff57');\n",
                "          const dataTable =\n",
                "            await google.colab.kernel.invokeFunction('convertToInteractive',\n",
                "                                                     [key], {});\n",
                "          if (!dataTable) return;\n",
                "\n",
                "          const docLinkHtml = 'Like what you see? Visit the ' +\n",
                "            '<a target=\"_blank\" href=https://colab.research.google.com/notebooks/data_table.ipynb>data table notebook</a>'\n",
                "            + ' to learn more about interactive tables.';\n",
                "          element.innerHTML = '';\n",
                "          dataTable['output_type'] = 'display_data';\n",
                "          await google.colab.output.renderOutput(dataTable, element);\n",
                "          const docLink = document.createElement('div');\n",
                "          docLink.innerHTML = docLinkHtml;\n",
                "          element.appendChild(docLink);\n",
                "        }\n",
                "      </script>\n",
                "    </div>\n",
                "  </div>\n",
                "  "
              ]
            },
            "metadata": {},
            "execution_count": 5
          }
        ]
      },
      {
        "cell_type": "markdown",
        "source": [
          "An entire Jupyter cell can be used as a SQL cell by placing `%%sql` at the start of the cell. Query results will be displayed as a Pandas DF."
        ],
        "metadata": {
          "id": "UbWLn9rD579W"
        }
      },
      {
        "cell_type": "code",
        "source": [
          "%%sql\n",
          "SELECT\n",
          "    schema_name,\n",
          "    function_name\n",
          "FROM duckdb_functions()\n",
          "ORDER BY ALL DESC\n",
          "LIMIT 5"
        ],
        "metadata": {
          "colab": {
            "base_uri": "https://localhost:8080/",
            "height": 204
          },
          "id": "ZEOoRI-u569E",
          "outputId": "93afe5ae-0115-4389-d89d-f06499d00f63"
        },
        "execution_count": null,
        "outputs": [
          {
            "output_type": "execute_result",
            "data": {
              "text/plain": [
                "  schema_name      function_name\n",
                "0  pg_catalog  shobj_description\n",
                "1  pg_catalog  shobj_description\n",
                "2  pg_catalog  shobj_description\n",
                "3  pg_catalog          pg_typeof\n",
                "4  pg_catalog          pg_typeof"
              ],
              "text/html": [
                "\n",
                "  <div id=\"df-83094352-fdfd-49ee-9ea5-ba93c6cd35c0\">\n",
                "    <div class=\"colab-df-container\">\n",
                "      <div>\n",
                "<style scoped>\n",
                "    .dataframe tbody tr th:only-of-type {\n",
                "        vertical-align: middle;\n",
                "    }\n",
                "\n",
                "    .dataframe tbody tr th {\n",
                "        vertical-align: top;\n",
                "    }\n",
                "\n",
                "    .dataframe thead th {\n",
                "        text-align: right;\n",
                "    }\n",
                "</style>\n",
                "<table border=\"1\" class=\"dataframe\">\n",
                "  <thead>\n",
                "    <tr style=\"text-align: right;\">\n",
                "      <th></th>\n",
                "      <th>schema_name</th>\n",
                "      <th>function_name</th>\n",
                "    </tr>\n",
                "  </thead>\n",
                "  <tbody>\n",
                "    <tr>\n",
                "      <th>0</th>\n",
                "      <td>pg_catalog</td>\n",
                "      <td>shobj_description</td>\n",
                "    </tr>\n",
                "    <tr>\n",
                "      <th>1</th>\n",
                "      <td>pg_catalog</td>\n",
                "      <td>shobj_description</td>\n",
                "    </tr>\n",
                "    <tr>\n",
                "      <th>2</th>\n",
                "      <td>pg_catalog</td>\n",
                "      <td>shobj_description</td>\n",
                "    </tr>\n",
                "    <tr>\n",
                "      <th>3</th>\n",
                "      <td>pg_catalog</td>\n",
                "      <td>pg_typeof</td>\n",
                "    </tr>\n",
                "    <tr>\n",
                "      <th>4</th>\n",
                "      <td>pg_catalog</td>\n",
                "      <td>pg_typeof</td>\n",
                "    </tr>\n",
                "  </tbody>\n",
                "</table>\n",
                "</div>\n",
                "      <button class=\"colab-df-convert\" onclick=\"convertToInteractive('df-83094352-fdfd-49ee-9ea5-ba93c6cd35c0')\"\n",
                "              title=\"Convert this dataframe to an interactive table.\"\n",
                "              style=\"display:none;\">\n",
                "        \n",
                "  <svg xmlns=\"http://www.w3.org/2000/svg\" height=\"24px\"viewBox=\"0 0 24 24\"\n",
                "       width=\"24px\">\n",
                "    <path d=\"M0 0h24v24H0V0z\" fill=\"none\"/>\n",
                "    <path d=\"M18.56 5.44l.94 2.06.94-2.06 2.06-.94-2.06-.94-.94-2.06-.94 2.06-2.06.94zm-11 1L8.5 8.5l.94-2.06 2.06-.94-2.06-.94L8.5 2.5l-.94 2.06-2.06.94zm10 10l.94 2.06.94-2.06 2.06-.94-2.06-.94-.94-2.06-.94 2.06-2.06.94z\"/><path d=\"M17.41 7.96l-1.37-1.37c-.4-.4-.92-.59-1.43-.59-.52 0-1.04.2-1.43.59L10.3 9.45l-7.72 7.72c-.78.78-.78 2.05 0 2.83L4 21.41c.39.39.9.59 1.41.59.51 0 1.02-.2 1.41-.59l7.78-7.78 2.81-2.81c.8-.78.8-2.07 0-2.86zM5.41 20L4 18.59l7.72-7.72 1.47 1.35L5.41 20z\"/>\n",
                "  </svg>\n",
                "      </button>\n",
                "      \n",
                "  <style>\n",
                "    .colab-df-container {\n",
                "      display:flex;\n",
                "      flex-wrap:wrap;\n",
                "      gap: 12px;\n",
                "    }\n",
                "\n",
                "    .colab-df-convert {\n",
                "      background-color: #E8F0FE;\n",
                "      border: none;\n",
                "      border-radius: 50%;\n",
                "      cursor: pointer;\n",
                "      display: none;\n",
                "      fill: #1967D2;\n",
                "      height: 32px;\n",
                "      padding: 0 0 0 0;\n",
                "      width: 32px;\n",
                "    }\n",
                "\n",
                "    .colab-df-convert:hover {\n",
                "      background-color: #E2EBFA;\n",
                "      box-shadow: 0px 1px 2px rgba(60, 64, 67, 0.3), 0px 1px 3px 1px rgba(60, 64, 67, 0.15);\n",
                "      fill: #174EA6;\n",
                "    }\n",
                "\n",
                "    [theme=dark] .colab-df-convert {\n",
                "      background-color: #3B4455;\n",
                "      fill: #D2E3FC;\n",
                "    }\n",
                "\n",
                "    [theme=dark] .colab-df-convert:hover {\n",
                "      background-color: #434B5C;\n",
                "      box-shadow: 0px 1px 3px 1px rgba(0, 0, 0, 0.15);\n",
                "      filter: drop-shadow(0px 1px 2px rgba(0, 0, 0, 0.3));\n",
                "      fill: #FFFFFF;\n",
                "    }\n",
                "  </style>\n",
                "\n",
                "      <script>\n",
                "        const buttonEl =\n",
                "          document.querySelector('#df-83094352-fdfd-49ee-9ea5-ba93c6cd35c0 button.colab-df-convert');\n",
                "        buttonEl.style.display =\n",
                "          google.colab.kernel.accessAllowed ? 'block' : 'none';\n",
                "\n",
                "        async function convertToInteractive(key) {\n",
                "          const element = document.querySelector('#df-83094352-fdfd-49ee-9ea5-ba93c6cd35c0');\n",
                "          const dataTable =\n",
                "            await google.colab.kernel.invokeFunction('convertToInteractive',\n",
                "                                                     [key], {});\n",
                "          if (!dataTable) return;\n",
                "\n",
                "          const docLinkHtml = 'Like what you see? Visit the ' +\n",
                "            '<a target=\"_blank\" href=https://colab.research.google.com/notebooks/data_table.ipynb>data table notebook</a>'\n",
                "            + ' to learn more about interactive tables.';\n",
                "          element.innerHTML = '';\n",
                "          dataTable['output_type'] = 'display_data';\n",
                "          await google.colab.output.renderOutput(dataTable, element);\n",
                "          const docLink = document.createElement('div');\n",
                "          docLink.innerHTML = docLinkHtml;\n",
                "          element.appendChild(docLink);\n",
                "        }\n",
                "      </script>\n",
                "    </div>\n",
                "  </div>\n",
                "  "
              ]
            },
            "metadata": {},
            "execution_count": 6
          }
        ]
      },
      {
        "cell_type": "markdown",
        "source": [
          "To return query results into a Pandas dataframe for future usage, use `<<` as an assignment operator. This can be used with both the `%sql` and `%%sql` Jupyter magics."
        ],
        "metadata": {
          "id": "8HtKdEcs6mvC"
        }
      },
      {
        "cell_type": "code",
        "source": [
          "%sql my_df << SELECT 'Off and flying!' as a_duckdb_column\n",
          "my_df"
        ],
        "metadata": {
          "colab": {
            "base_uri": "https://localhost:8080/",
            "height": 80
          },
          "id": "GQpzinPH5GvF",
          "outputId": "c1105b12-a420-4d95-ed64-71900d0dbab0"
        },
        "execution_count": null,
        "outputs": [
          {
            "output_type": "execute_result",
            "data": {
              "text/plain": [
                "   a_duckdb_column\n",
                "0  Off and flying!"
              ],
              "text/html": [
                "\n",
                "  <div id=\"df-beef4998-409d-4ceb-b386-c57cae2550d0\">\n",
                "    <div class=\"colab-df-container\">\n",
                "      <div>\n",
                "<style scoped>\n",
                "    .dataframe tbody tr th:only-of-type {\n",
                "        vertical-align: middle;\n",
                "    }\n",
                "\n",
                "    .dataframe tbody tr th {\n",
                "        vertical-align: top;\n",
                "    }\n",
                "\n",
                "    .dataframe thead th {\n",
                "        text-align: right;\n",
                "    }\n",
                "</style>\n",
                "<table border=\"1\" class=\"dataframe\">\n",
                "  <thead>\n",
                "    <tr style=\"text-align: right;\">\n",
                "      <th></th>\n",
                "      <th>a_duckdb_column</th>\n",
                "    </tr>\n",
                "  </thead>\n",
                "  <tbody>\n",
                "    <tr>\n",
                "      <th>0</th>\n",
                "      <td>Off and flying!</td>\n",
                "    </tr>\n",
                "  </tbody>\n",
                "</table>\n",
                "</div>\n",
                "      <button class=\"colab-df-convert\" onclick=\"convertToInteractive('df-beef4998-409d-4ceb-b386-c57cae2550d0')\"\n",
                "              title=\"Convert this dataframe to an interactive table.\"\n",
                "              style=\"display:none;\">\n",
                "        \n",
                "  <svg xmlns=\"http://www.w3.org/2000/svg\" height=\"24px\"viewBox=\"0 0 24 24\"\n",
                "       width=\"24px\">\n",
                "    <path d=\"M0 0h24v24H0V0z\" fill=\"none\"/>\n",
                "    <path d=\"M18.56 5.44l.94 2.06.94-2.06 2.06-.94-2.06-.94-.94-2.06-.94 2.06-2.06.94zm-11 1L8.5 8.5l.94-2.06 2.06-.94-2.06-.94L8.5 2.5l-.94 2.06-2.06.94zm10 10l.94 2.06.94-2.06 2.06-.94-2.06-.94-.94-2.06-.94 2.06-2.06.94z\"/><path d=\"M17.41 7.96l-1.37-1.37c-.4-.4-.92-.59-1.43-.59-.52 0-1.04.2-1.43.59L10.3 9.45l-7.72 7.72c-.78.78-.78 2.05 0 2.83L4 21.41c.39.39.9.59 1.41.59.51 0 1.02-.2 1.41-.59l7.78-7.78 2.81-2.81c.8-.78.8-2.07 0-2.86zM5.41 20L4 18.59l7.72-7.72 1.47 1.35L5.41 20z\"/>\n",
                "  </svg>\n",
                "      </button>\n",
                "      \n",
                "  <style>\n",
                "    .colab-df-container {\n",
                "      display:flex;\n",
                "      flex-wrap:wrap;\n",
                "      gap: 12px;\n",
                "    }\n",
                "\n",
                "    .colab-df-convert {\n",
                "      background-color: #E8F0FE;\n",
                "      border: none;\n",
                "      border-radius: 50%;\n",
                "      cursor: pointer;\n",
                "      display: none;\n",
                "      fill: #1967D2;\n",
                "      height: 32px;\n",
                "      padding: 0 0 0 0;\n",
                "      width: 32px;\n",
                "    }\n",
                "\n",
                "    .colab-df-convert:hover {\n",
                "      background-color: #E2EBFA;\n",
                "      box-shadow: 0px 1px 2px rgba(60, 64, 67, 0.3), 0px 1px 3px 1px rgba(60, 64, 67, 0.15);\n",
                "      fill: #174EA6;\n",
                "    }\n",
                "\n",
                "    [theme=dark] .colab-df-convert {\n",
                "      background-color: #3B4455;\n",
                "      fill: #D2E3FC;\n",
                "    }\n",
                "\n",
                "    [theme=dark] .colab-df-convert:hover {\n",
                "      background-color: #434B5C;\n",
                "      box-shadow: 0px 1px 3px 1px rgba(0, 0, 0, 0.15);\n",
                "      filter: drop-shadow(0px 1px 2px rgba(0, 0, 0, 0.3));\n",
                "      fill: #FFFFFF;\n",
                "    }\n",
                "  </style>\n",
                "\n",
                "      <script>\n",
                "        const buttonEl =\n",
                "          document.querySelector('#df-beef4998-409d-4ceb-b386-c57cae2550d0 button.colab-df-convert');\n",
                "        buttonEl.style.display =\n",
                "          google.colab.kernel.accessAllowed ? 'block' : 'none';\n",
                "\n",
                "        async function convertToInteractive(key) {\n",
                "          const element = document.querySelector('#df-beef4998-409d-4ceb-b386-c57cae2550d0');\n",
                "          const dataTable =\n",
                "            await google.colab.kernel.invokeFunction('convertToInteractive',\n",
                "                                                     [key], {});\n",
                "          if (!dataTable) return;\n",
                "\n",
                "          const docLinkHtml = 'Like what you see? Visit the ' +\n",
                "            '<a target=\"_blank\" href=https://colab.research.google.com/notebooks/data_table.ipynb>data table notebook</a>'\n",
                "            + ' to learn more about interactive tables.';\n",
                "          element.innerHTML = '';\n",
                "          dataTable['output_type'] = 'display_data';\n",
                "          await google.colab.output.renderOutput(dataTable, element);\n",
                "          const docLink = document.createElement('div');\n",
                "          docLink.innerHTML = docLinkHtml;\n",
                "          element.appendChild(docLink);\n",
                "        }\n",
                "      </script>\n",
                "    </div>\n",
                "  </div>\n",
                "  "
              ]
            },
            "metadata": {},
            "execution_count": 7
          }
        ]
      },
      {
        "cell_type": "markdown",
        "source": [
          "## Querying Pandas Dataframes\n",
          "DuckDB is able to find and query any dataframe stored as a variable in the Jupyter notebook."
        ],
        "metadata": {
          "id": "ZHe_uG2666Zv"
        }
      },
      {
        "cell_type": "code",
        "source": [
          "input_df = pd.DataFrame.from_dict({\"i\":[1, 2, 3],\n",
          "                                  \"j\":[\"one\", \"two\", \"three\"]})"
        ],
        "metadata": {
          "id": "4qgw6C644LaB"
        },
        "execution_count": null,
        "outputs": []
      },
      {
        "cell_type": "markdown",
        "source": [
          "The dataframe being queried can be specified just like any other table in the `FROM` clause."
        ],
        "metadata": {
          "id": "siVry2OI7HwF"
        }
      },
      {
        "cell_type": "code",
        "source": [
          "%sql output_df << SELECT sum(i) as total_i FROM input_df\n",
          "output_df"
        ],
        "metadata": {
          "colab": {
            "base_uri": "https://localhost:8080/",
            "height": 80
          },
          "id": "uNxSRUVu4YvY",
          "outputId": "13e8ece8-54a8-4bc3-81db-63593d02fcfb"
        },
        "execution_count": null,
        "outputs": [
          {
            "output_type": "execute_result",
            "data": {
              "text/plain": [
                "   total_i\n",
                "0        6"
              ],
              "text/html": [
                "\n",
                "  <div id=\"df-982be645-5c6d-4fcf-bebe-73ab89dd7afb\">\n",
                "    <div class=\"colab-df-container\">\n",
                "      <div>\n",
                "<style scoped>\n",
                "    .dataframe tbody tr th:only-of-type {\n",
                "        vertical-align: middle;\n",
                "    }\n",
                "\n",
                "    .dataframe tbody tr th {\n",
                "        vertical-align: top;\n",
                "    }\n",
                "\n",
                "    .dataframe thead th {\n",
                "        text-align: right;\n",
                "    }\n",
                "</style>\n",
                "<table border=\"1\" class=\"dataframe\">\n",
                "  <thead>\n",
                "    <tr style=\"text-align: right;\">\n",
                "      <th></th>\n",
                "      <th>total_i</th>\n",
                "    </tr>\n",
                "  </thead>\n",
                "  <tbody>\n",
                "    <tr>\n",
                "      <th>0</th>\n",
                "      <td>6</td>\n",
                "    </tr>\n",
                "  </tbody>\n",
                "</table>\n",
                "</div>\n",
                "      <button class=\"colab-df-convert\" onclick=\"convertToInteractive('df-982be645-5c6d-4fcf-bebe-73ab89dd7afb')\"\n",
                "              title=\"Convert this dataframe to an interactive table.\"\n",
                "              style=\"display:none;\">\n",
                "        \n",
                "  <svg xmlns=\"http://www.w3.org/2000/svg\" height=\"24px\"viewBox=\"0 0 24 24\"\n",
                "       width=\"24px\">\n",
                "    <path d=\"M0 0h24v24H0V0z\" fill=\"none\"/>\n",
                "    <path d=\"M18.56 5.44l.94 2.06.94-2.06 2.06-.94-2.06-.94-.94-2.06-.94 2.06-2.06.94zm-11 1L8.5 8.5l.94-2.06 2.06-.94-2.06-.94L8.5 2.5l-.94 2.06-2.06.94zm10 10l.94 2.06.94-2.06 2.06-.94-2.06-.94-.94-2.06-.94 2.06-2.06.94z\"/><path d=\"M17.41 7.96l-1.37-1.37c-.4-.4-.92-.59-1.43-.59-.52 0-1.04.2-1.43.59L10.3 9.45l-7.72 7.72c-.78.78-.78 2.05 0 2.83L4 21.41c.39.39.9.59 1.41.59.51 0 1.02-.2 1.41-.59l7.78-7.78 2.81-2.81c.8-.78.8-2.07 0-2.86zM5.41 20L4 18.59l7.72-7.72 1.47 1.35L5.41 20z\"/>\n",
                "  </svg>\n",
                "      </button>\n",
                "      \n",
                "  <style>\n",
                "    .colab-df-container {\n",
                "      display:flex;\n",
                "      flex-wrap:wrap;\n",
                "      gap: 12px;\n",
                "    }\n",
                "\n",
                "    .colab-df-convert {\n",
                "      background-color: #E8F0FE;\n",
                "      border: none;\n",
                "      border-radius: 50%;\n",
                "      cursor: pointer;\n",
                "      display: none;\n",
                "      fill: #1967D2;\n",
                "      height: 32px;\n",
                "      padding: 0 0 0 0;\n",
                "      width: 32px;\n",
                "    }\n",
                "\n",
                "    .colab-df-convert:hover {\n",
                "      background-color: #E2EBFA;\n",
                "      box-shadow: 0px 1px 2px rgba(60, 64, 67, 0.3), 0px 1px 3px 1px rgba(60, 64, 67, 0.15);\n",
                "      fill: #174EA6;\n",
                "    }\n",
                "\n",
                "    [theme=dark] .colab-df-convert {\n",
                "      background-color: #3B4455;\n",
                "      fill: #D2E3FC;\n",
                "    }\n",
                "\n",
                "    [theme=dark] .colab-df-convert:hover {\n",
                "      background-color: #434B5C;\n",
                "      box-shadow: 0px 1px 3px 1px rgba(0, 0, 0, 0.15);\n",
                "      filter: drop-shadow(0px 1px 2px rgba(0, 0, 0, 0.3));\n",
                "      fill: #FFFFFF;\n",
                "    }\n",
                "  </style>\n",
                "\n",
                "      <script>\n",
                "        const buttonEl =\n",
                "          document.querySelector('#df-982be645-5c6d-4fcf-bebe-73ab89dd7afb button.colab-df-convert');\n",
                "        buttonEl.style.display =\n",
                "          google.colab.kernel.accessAllowed ? 'block' : 'none';\n",
                "\n",
                "        async function convertToInteractive(key) {\n",
                "          const element = document.querySelector('#df-982be645-5c6d-4fcf-bebe-73ab89dd7afb');\n",
                "          const dataTable =\n",
                "            await google.colab.kernel.invokeFunction('convertToInteractive',\n",
                "                                                     [key], {});\n",
                "          if (!dataTable) return;\n",
                "\n",
                "          const docLinkHtml = 'Like what you see? Visit the ' +\n",
                "            '<a target=\"_blank\" href=https://colab.research.google.com/notebooks/data_table.ipynb>data table notebook</a>'\n",
                "            + ' to learn more about interactive tables.';\n",
                "          element.innerHTML = '';\n",
                "          dataTable['output_type'] = 'display_data';\n",
                "          await google.colab.output.renderOutput(dataTable, element);\n",
                "          const docLink = document.createElement('div');\n",
                "          docLink.innerHTML = docLinkHtml;\n",
                "          element.appendChild(docLink);\n",
                "        }\n",
                "      </script>\n",
                "    </div>\n",
                "  </div>\n",
                "  "
              ]
            },
            "metadata": {},
            "execution_count": 9
          }
        ]
      },
      {
        "cell_type": "markdown",
        "source": [
          "## Visualizing DuckDB Data\n",
          "The most common way to plot datasets in Python is to load them using pandas and then use matplotlib or seaborn for plotting.\n",
          "This approach requires loading all data into memory which is highly inefficient.\n",
          "The plotting module in JupySQL runs computations in the SQL engine. \n",
          "This delegates memory management to the engine and ensures that intermediate computations do not keep eating up memory, efficiently plotting massive datasets. "
        ],
        "metadata": {
          "id": "3_yCxgNIedj5"
        }
      },
      {
        "cell_type": "markdown",
        "source": [
          "### Install and Load DuckDB httpfs extension\n",
          "DuckDB's [httpfs extension](https://duckdb.org/docs/extensions/httpfs) allows parquet and csv files to be queried remotely over http. \n",
          "These examples query a parquet file that contains historical taxi data from NYC. \n",
          "Using the parquet format allows DuckDB to only pull the rows and columns into memory that are needed rather than download the entire file. \n",
          "DuckDB can be used to process [local parquet files as well](https://duckdb.org/docs/data/parquet), which may be desirable if querying the entire parquet file, or running multiple queries that require large subsets of the file.\n"
        ],
        "metadata": {
          "id": "Pr_tB-phf3U3"
        }
      },
      {
        "cell_type": "code",
        "source": [
          "%%sql\n",
          "INSTALL httpfs;\n",
          "LOAD httpfs;"
        ],
        "metadata": {
          "colab": {
            "base_uri": "https://localhost:8080/",
            "height": 49
          },
          "id": "nfjBv8ADZOwO",
          "outputId": "8d7c088e-5996-4d46-ab9e-1639787b7e34"
        },
        "execution_count": null,
        "outputs": [
          {
            "output_type": "execute_result",
            "data": {
              "text/plain": [
                "Empty DataFrame\n",
                "Columns: []\n",
                "Index: []"
              ],
              "text/html": [
                "\n",
                "  <div id=\"df-9012199f-c093-42d2-9d3a-90e835052657\">\n",
                "    <div class=\"colab-df-container\">\n",
                "      <div>\n",
                "<style scoped>\n",
                "    .dataframe tbody tr th:only-of-type {\n",
                "        vertical-align: middle;\n",
                "    }\n",
                "\n",
                "    .dataframe tbody tr th {\n",
                "        vertical-align: top;\n",
                "    }\n",
                "\n",
                "    .dataframe thead th {\n",
                "        text-align: right;\n",
                "    }\n",
                "</style>\n",
                "<table border=\"1\" class=\"dataframe\">\n",
                "  <thead>\n",
                "    <tr style=\"text-align: right;\">\n",
                "      <th></th>\n",
                "    </tr>\n",
                "  </thead>\n",
                "  <tbody>\n",
                "  </tbody>\n",
                "</table>\n",
                "</div>\n",
                "      <button class=\"colab-df-convert\" onclick=\"convertToInteractive('df-9012199f-c093-42d2-9d3a-90e835052657')\"\n",
                "              title=\"Convert this dataframe to an interactive table.\"\n",
                "              style=\"display:none;\">\n",
                "        \n",
                "  <svg xmlns=\"http://www.w3.org/2000/svg\" height=\"24px\"viewBox=\"0 0 24 24\"\n",
                "       width=\"24px\">\n",
                "    <path d=\"M0 0h24v24H0V0z\" fill=\"none\"/>\n",
                "    <path d=\"M18.56 5.44l.94 2.06.94-2.06 2.06-.94-2.06-.94-.94-2.06-.94 2.06-2.06.94zm-11 1L8.5 8.5l.94-2.06 2.06-.94-2.06-.94L8.5 2.5l-.94 2.06-2.06.94zm10 10l.94 2.06.94-2.06 2.06-.94-2.06-.94-.94-2.06-.94 2.06-2.06.94z\"/><path d=\"M17.41 7.96l-1.37-1.37c-.4-.4-.92-.59-1.43-.59-.52 0-1.04.2-1.43.59L10.3 9.45l-7.72 7.72c-.78.78-.78 2.05 0 2.83L4 21.41c.39.39.9.59 1.41.59.51 0 1.02-.2 1.41-.59l7.78-7.78 2.81-2.81c.8-.78.8-2.07 0-2.86zM5.41 20L4 18.59l7.72-7.72 1.47 1.35L5.41 20z\"/>\n",
                "  </svg>\n",
                "      </button>\n",
                "      \n",
                "  <style>\n",
                "    .colab-df-container {\n",
                "      display:flex;\n",
                "      flex-wrap:wrap;\n",
                "      gap: 12px;\n",
                "    }\n",
                "\n",
                "    .colab-df-convert {\n",
                "      background-color: #E8F0FE;\n",
                "      border: none;\n",
                "      border-radius: 50%;\n",
                "      cursor: pointer;\n",
                "      display: none;\n",
                "      fill: #1967D2;\n",
                "      height: 32px;\n",
                "      padding: 0 0 0 0;\n",
                "      width: 32px;\n",
                "    }\n",
                "\n",
                "    .colab-df-convert:hover {\n",
                "      background-color: #E2EBFA;\n",
                "      box-shadow: 0px 1px 2px rgba(60, 64, 67, 0.3), 0px 1px 3px 1px rgba(60, 64, 67, 0.15);\n",
                "      fill: #174EA6;\n",
                "    }\n",
                "\n",
                "    [theme=dark] .colab-df-convert {\n",
                "      background-color: #3B4455;\n",
                "      fill: #D2E3FC;\n",
                "    }\n",
                "\n",
                "    [theme=dark] .colab-df-convert:hover {\n",
                "      background-color: #434B5C;\n",
                "      box-shadow: 0px 1px 3px 1px rgba(0, 0, 0, 0.15);\n",
                "      filter: drop-shadow(0px 1px 2px rgba(0, 0, 0, 0.3));\n",
                "      fill: #FFFFFF;\n",
                "    }\n",
                "  </style>\n",
                "\n",
                "      <script>\n",
                "        const buttonEl =\n",
                "          document.querySelector('#df-9012199f-c093-42d2-9d3a-90e835052657 button.colab-df-convert');\n",
                "        buttonEl.style.display =\n",
                "          google.colab.kernel.accessAllowed ? 'block' : 'none';\n",
                "\n",
                "        async function convertToInteractive(key) {\n",
                "          const element = document.querySelector('#df-9012199f-c093-42d2-9d3a-90e835052657');\n",
                "          const dataTable =\n",
                "            await google.colab.kernel.invokeFunction('convertToInteractive',\n",
                "                                                     [key], {});\n",
                "          if (!dataTable) return;\n",
                "\n",
                "          const docLinkHtml = 'Like what you see? Visit the ' +\n",
                "            '<a target=\"_blank\" href=https://colab.research.google.com/notebooks/data_table.ipynb>data table notebook</a>'\n",
                "            + ' to learn more about interactive tables.';\n",
                "          element.innerHTML = '';\n",
                "          dataTable['output_type'] = 'display_data';\n",
                "          await google.colab.output.renderOutput(dataTable, element);\n",
                "          const docLink = document.createElement('div');\n",
                "          docLink.innerHTML = docLinkHtml;\n",
                "          element.appendChild(docLink);\n",
                "        }\n",
                "      </script>\n",
                "    </div>\n",
                "  </div>\n",
                "  "
              ]
            },
            "metadata": {},
            "execution_count": 10
          }
        ]
      },
      {
        "cell_type": "markdown",
        "source": [
          "### Boxplot & Histogram\n",
          "To create a boxplot, call `%sqlplot boxplot`, passing the name of the table and the column to plot.\n",
          "In this case, the name of the table is the URL of the remotely stored parquet file."
        ],
        "metadata": {
          "id": "RNceigBAgF5V"
        }
      },
      {
        "cell_type": "code",
        "source": [
          "%sqlplot boxplot --table https://d37ci6vzurychx.cloudfront.net/trip-data/yellow_tripdata_2021-01.parquet --column trip_distance"
        ],
        "metadata": {
          "colab": {
            "base_uri": "https://localhost:8080/",
            "height": 299
          },
          "id": "DBXg6u2hYZAt",
          "outputId": "a7343bfc-504c-4ce4-84db-c2e381f0123a"
        },
        "execution_count": null,
        "outputs": [
          {
            "output_type": "execute_result",
            "data": {
              "text/plain": [
                "<Axes: title={'center': \"'trip_distance' from 'https://d37ci6vzurychx.cloudfront.net/trip-data/yellow_tripdata_2021-01.parquet'\"}, ylabel='trip_distance'>"
              ]
            },
            "metadata": {},
            "execution_count": 11
          },
          {
            "output_type": "display_data",
            "data": {
              "text/plain": [
                "<Figure size 432x288 with 1 Axes>"
              ],
              "image/png": "[encoded data removed]"
            },
            "metadata": {
              "needs_background": "light"
            }
          }
        ]
      },
      {
        "cell_type": "markdown",
        "source": [
          "Now, create a query that filters by the 90th percentile. \n",
          "Note the use of the `--save`, and `--no-execute` functions. \n",
          "This tells JupySQL to store the query, but skips execution. It will be referenced in the next plotting call."
        ],
        "metadata": {
          "id": "CzZe8VgygJot"
        }
      },
      {
        "cell_type": "code",
        "source": [
          "%%sql --save short-trips --no-execute\n",
          "SELECT *\n",
          "FROM 'https://d37ci6vzurychx.cloudfront.net/trip-data/yellow_tripdata_2021-01.parquet'\n",
          "WHERE trip_distance < 6.3"
        ],
        "metadata": {
          "colab": {
            "base_uri": "https://localhost:8080/"
          },
          "id": "j9QKSvUWYn0K",
          "outputId": "739f2df4-a7ae-4df3-c13f-a0292eaaae0f"
        },
        "execution_count": null,
        "outputs": [
          {
            "output_type": "stream",
            "name": "stdout",
            "text": [
              "Skipping execution...\n"
            ]
          },
          {
            "output_type": "stream",
            "name": "stderr",
            "text": [
              "/usr/local/lib/python3.9/dist-packages/sql/magic.py:324: FutureWarning: Using hyphens will be deprecated soon, please use short_trips instead for the save argument.\n",
              "  warnings.warn(\n"
            ]
          }
        ]
      },
      {
        "cell_type": "markdown",
        "source": [
          "To create a histogram, call `%sqlplot histogram` and pass the name of the table, the column to plot, and the number of bins. \n",
          "This uses `--with short-trips` so JupySQL uses the query defined previously and therefore only plots a subset of the data."
        ],
        "metadata": {
          "id": "Dbw06QARgNiX"
        }
      },
      {
        "cell_type": "code",
        "source": [
          "%sqlplot histogram --table short-trips --column trip_distance --bins 10 --with short-trips"
        ],
        "metadata": {
          "colab": {
            "base_uri": "https://localhost:8080/",
            "height": 347
          },
          "id": "6rgP4x-NYpcE",
          "outputId": "4b56dea4-19c3-4eb1-87b5-f9cd74892463"
        },
        "execution_count": null,
        "outputs": [
          {
            "output_type": "stream",
            "name": "stderr",
            "text": [
              "/usr/local/lib/python3.9/dist-packages/sql/store.py:86: FutureWarning: Using hyphens will be deprecated soon, please use short_trips instead for the with argument.\n",
              "  warnings.warn(\n"
            ]
          },
          {
            "output_type": "execute_result",
            "data": {
              "text/plain": [
                "<Axes: title={'center': \"'trip_distance' from 'short-trips'\"}, xlabel='trip_distance', ylabel='Count'>"
              ]
            },
            "metadata": {},
            "execution_count": 13
          },
          {
            "output_type": "display_data",
            "data": {
              "text/plain": [
                "<Figure size 432x288 with 1 Axes>"
              ],
              "image/png": "[encoded data removed]"
            },
            "metadata": {
              "needs_background": "light"
            }
          }
        ]
      },
      {
        "cell_type": "markdown",
        "source": [
          "## Summary\n",
          "You now have the ability to alternate between SQL and Pandas in a simple and highly performant way! You can plot massive datasets directly through the engine (avoiding both the download of the entire file and loading all of it into Pandas in memory). Dataframes can be read as tables in SQL, and SQL results can be output into Dataframes. Happy analyzing!"
        ],
        "metadata": {
          "id": "exzkl7g47jja"
        }
      },
      {
        "cell_type": "code",
        "source": [],
        "metadata": {
          "id": "lKGmZ3hDgRmW"
        },
        "execution_count": null,
        "outputs": []
      }
    ]
  }